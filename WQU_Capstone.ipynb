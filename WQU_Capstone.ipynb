{
  "nbformat": 4,
  "nbformat_minor": 0,
  "metadata": {
    "colab": {
      "provenance": [],
      "toc_visible": true
    },
    "kernelspec": {
      "name": "python3",
      "display_name": "Python 3"
    },
    "language_info": {
      "name": "python"
    }
  },
  "cells": [
    {
      "cell_type": "markdown",
      "source": [
        "#**WQU Capstone**\n",
        "**Group Number: 5468**"
      ],
      "metadata": {
        "id": "4hDYKAM4ceR7"
      }
    },
    {
      "cell_type": "markdown",
      "source": [
        "\n",
        "*   Track 1: Commodities - Research\n",
        "*   Topic 1: Energy Products Relationships in Different Markets\n",
        "*   Title: Understanding and Analyzing Energy Product Price Relationships Across Global Markets\n",
        "\n",
        "\n",
        "\n",
        "\n",
        "\n"
      ],
      "metadata": {
        "id": "L6REPTA8cD7b"
      }
    },
    {
      "cell_type": "code",
      "source": [
        "import pandas as pd\n",
        "import numpy as np\n",
        "import matplotlib.pyplot as plt"
      ],
      "metadata": {
        "id": "JTHWOyP1xMfY"
      },
      "execution_count": null,
      "outputs": []
    },
    {
      "cell_type": "markdown",
      "source": [
        "#**STEP 1: Data Collection**"
      ],
      "metadata": {
        "id": "UaWmK4zQdav6"
      }
    },
    {
      "cell_type": "markdown",
      "source": [
        "\n",
        "*   Collect historical price data for crude oil  (such as WTI, Bonny Light, Brent  etc) and their refined products (such as gasoline, diesel ect) from reliable sources.\n",
        "*   Official websites and databases will be used."
      ],
      "metadata": {
        "id": "o4JDjAp2eKKi"
      }
    },
    {
      "cell_type": "code",
      "source": [
        "EIA_TOKEN= \"5bKluShYITnpvGOcc2UfrkCugroU622kfL3nUEfb\""
      ],
      "metadata": {
        "id": "hM-laclEdaKc"
      },
      "execution_count": null,
      "outputs": []
    },
    {
      "cell_type": "markdown",
      "source": [
        "#**STEP 2: Data Preprocessing**"
      ],
      "metadata": {
        "id": "5DEwaoaJdnqD"
      }
    },
    {
      "cell_type": "markdown",
      "source": [
        "\n",
        "*   Clean & validate the data.\n",
        "*   This includes handling missing values, and ensuring consistency."
      ],
      "metadata": {
        "id": "w03aQ9HZeqca"
      }
    },
    {
      "cell_type": "code",
      "source": [],
      "metadata": {
        "id": "H6axJmn_cbVp"
      },
      "execution_count": null,
      "outputs": []
    },
    {
      "cell_type": "markdown",
      "source": [
        "#**STEP 3: Time Series Analysis**"
      ],
      "metadata": {
        "id": "sbdX9gfmcdAh"
      }
    },
    {
      "cell_type": "markdown",
      "source": [
        "\n",
        "*   Conduct EDA including time series plots, Q-Q analysis, and comparison of statistical metrics across markets.\n",
        "*   Identify trends, seasonal patterns, and outliers."
      ],
      "metadata": {
        "id": "eX-zXSIOeyhR"
      }
    },
    {
      "cell_type": "code",
      "source": [],
      "metadata": {
        "id": "4khWqxf5dvAC"
      },
      "execution_count": null,
      "outputs": []
    },
    {
      "cell_type": "markdown",
      "source": [
        "#**STEP 4:Statistical Analysis**"
      ],
      "metadata": {
        "id": "__yzau5TdvUh"
      }
    },
    {
      "cell_type": "markdown",
      "source": [
        "\n",
        "*   Use statistical techniques to identify correlations between crude oil prices and their refined products."
      ],
      "metadata": {
        "id": "qfA0-hXXe6fQ"
      }
    },
    {
      "cell_type": "code",
      "source": [],
      "metadata": {
        "id": "UONdM9dNdwYh"
      },
      "execution_count": null,
      "outputs": []
    },
    {
      "cell_type": "markdown",
      "source": [
        "#**STEP 5:Model Development via Multivariate Techniques**"
      ],
      "metadata": {
        "id": "WWARJxjydwpC"
      }
    },
    {
      "cell_type": "markdown",
      "source": [
        "\n",
        "*   Use advanced statistical methodologies such as multivariate GARCH models, and Principal Component Analysis (PCA) to develop dynamic models for price relationship analysis."
      ],
      "metadata": {
        "id": "gGpF23vjfArP"
      }
    },
    {
      "cell_type": "code",
      "source": [],
      "metadata": {
        "id": "PYnpqDA-dxvC"
      },
      "execution_count": null,
      "outputs": []
    },
    {
      "cell_type": "markdown",
      "source": [
        "#**STEP 6:Result Interpretation**"
      ],
      "metadata": {
        "id": "8HVViATrfJ3q"
      }
    },
    {
      "cell_type": "markdown",
      "source": [
        "\n",
        "*   Interpret the results of the analysis and provide insights into market dynamics and pricing relationships."
      ],
      "metadata": {
        "id": "BlmKC1-JfXwi"
      }
    },
    {
      "cell_type": "code",
      "source": [],
      "metadata": {
        "id": "5k8Mz7vufN66"
      },
      "execution_count": null,
      "outputs": []
    },
    {
      "cell_type": "markdown",
      "source": [
        "#**STEP 7:Discussion**"
      ],
      "metadata": {
        "id": "BS0tlEh4fOhC"
      }
    },
    {
      "cell_type": "markdown",
      "source": [
        "\n",
        "*   Discuss possible economic explanations for differences observed in price relationships across markets."
      ],
      "metadata": {
        "id": "cVhiY_o7falj"
      }
    },
    {
      "cell_type": "code",
      "source": [],
      "metadata": {
        "id": "uRfYDicrfRRS"
      },
      "execution_count": null,
      "outputs": []
    }
  ]
}
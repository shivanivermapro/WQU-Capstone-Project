{
  "cells": [
    {
      "cell_type": "markdown",
      "metadata": {
        "id": "4hDYKAM4ceR7"
      },
      "source": [
        "#**WQU Capstone**\n",
        "**Group Number: 5468**"
      ]
    },
    {
      "cell_type": "markdown",
      "metadata": {
        "id": "L6REPTA8cD7b"
      },
      "source": [
        "\n",
        "*   Track 1: Commodities - Research\n",
        "*   Topic 1: Energy Products Relationships in Different Markets\n",
        "*   Title: Understanding and Analyzing Energy Product Price Relationships Across Global Markets\n",
        "\n",
        "\n",
        "\n",
        "\n",
        "\n"
      ]
    },
    {
      "cell_type": "code",
      "execution_count": 3,
      "metadata": {
        "id": "JTHWOyP1xMfY"
      },
      "outputs": [],
      "source": [
        "import pandas as pd\n",
        "import numpy as np\n",
        "import matplotlib.pyplot as plt\n",
        "import statsmodels.api as sm\n",
        "from sklearn.decomposition import PCA\n",
        "from arch import arch_model"
      ]
    },
    {
      "cell_type": "markdown",
      "metadata": {
        "id": "UaWmK4zQdav6"
      },
      "source": [
        "#**STEP 1: Data Collection**"
      ]
    },
    {
      "cell_type": "markdown",
      "metadata": {
        "id": "o4JDjAp2eKKi"
      },
      "source": [
        "\n",
        "*   Collect historical price data for crude oil  (such as WTI, Bonny Light, Brent  etc) and their refined products (such as gasoline, diesel ect) from reliable sources.\n",
        "*   Official websites and databases will be used."
      ]
    },
    {
      "cell_type": "code",
      "execution_count": null,
      "metadata": {
        "id": "hM-laclEdaKc"
      },
      "outputs": [],
      "source": [
        "EIA_TOKEN= \"5bKluShYITnpvGOcc2UfrkCugroU622kfL3nUEfb\""
      ]
    },
    {
      "cell_type": "markdown",
      "metadata": {
        "id": "5DEwaoaJdnqD"
      },
      "source": [
        "#**STEP 2: Data Preprocessing**"
      ]
    },
    {
      "cell_type": "markdown",
      "metadata": {
        "id": "w03aQ9HZeqca"
      },
      "source": [
        "\n",
        "*   Clean & validate the data.\n",
        "*   This includes handling missing values, and ensuring consistency."
      ]
    },
    {
      "cell_type": "code",
      "execution_count": null,
      "metadata": {
        "id": "H6axJmn_cbVp"
      },
      "outputs": [],
      "source": []
    },
    {
      "cell_type": "markdown",
      "metadata": {
        "id": "sbdX9gfmcdAh"
      },
      "source": [
        "#**STEP 3: Time Series Analysis**"
      ]
    },
    {
      "cell_type": "markdown",
      "metadata": {
        "id": "eX-zXSIOeyhR"
      },
      "source": [
        "\n",
        "*   Conduct EDA including time series plots, Q-Q analysis, and comparison of statistical metrics across markets.\n",
        "*   Identify trends, seasonal patterns, and outliers."
      ]
    },
    {
      "cell_type": "code",
      "execution_count": null,
      "metadata": {
        "id": "4khWqxf5dvAC"
      },
      "outputs": [],
      "source": [
        "# For Q-Q analysis and df for dataframe\n",
        "\n",
        "# Create a dataframe of 5 variables (Change the below code by putting the Oil Prices here)\n",
        "\n",
        "df = pd.DataFrame({\n",
        "    'var1': np.random.normal(10, 2, 100),\n",
        "    'var2': np.random.normal(15, 3, 100),\n",
        "    'var3': np.random.normal(20, 4, 100),\n",
        "    'var4': np.random.normal(25, 5, 100),\n",
        "    'var5': np.random.normal(30, 6, 100)\n",
        "})\n",
        "\n",
        "# Create a qq plot for each variable\n",
        "for col in df.columns:\n",
        "    sm.qqplot(df[col], line='s')\n",
        "    plt.title('QQ Plot for {}'.format(col))\n",
        "    plt.show()"
      ]
    },
    {
      "cell_type": "markdown",
      "metadata": {
        "id": "__yzau5TdvUh"
      },
      "source": [
        "#**STEP 4:Statistical Analysis**"
      ]
    },
    {
      "cell_type": "markdown",
      "metadata": {
        "id": "qfA0-hXXe6fQ"
      },
      "source": [
        "\n",
        "*   Use statistical techniques to identify correlations between crude oil prices and their refined products."
      ]
    },
    {
      "cell_type": "code",
      "execution_count": null,
      "metadata": {
        "id": "UONdM9dNdwYh"
      },
      "outputs": [],
      "source": [
        "# For Correlation matrix between Oils\n",
        "\n",
        "corr_matrix = df.corr()\n",
        "\n",
        "# Print the correlation matrix\n",
        "print(corr_matrix)"
      ]
    },
    {
      "cell_type": "markdown",
      "metadata": {
        "id": "WWARJxjydwpC"
      },
      "source": [
        "#**STEP 5:Model Development via Multivariate Techniques**"
      ]
    },
    {
      "cell_type": "markdown",
      "metadata": {
        "id": "gGpF23vjfArP"
      },
      "source": [
        "\n",
        "*   Use advanced statistical methodologies such as multivariate GARCH models, and Principal Component Analysis (PCA) to develop dynamic models for price relationship analysis."
      ]
    },
    {
      "cell_type": "code",
      "execution_count": null,
      "metadata": {
        "id": "PYnpqDA-dxvC"
      },
      "outputs": [],
      "source": [
        "# For PCA analysis\n",
        "\n",
        "# Create a dataset with 5 variables, here Oil Prices\n",
        "X = np.array([[1, 2, 3, 4, 5], [6, 7, 8, 9, 10], [11, 12, 13, 14, 15]])\n",
        "\n",
        "# Create a PCA object\n",
        "pca = PCA(n_components=5)\n",
        "\n",
        "# Fit the PCA object to the data\n",
        "pca.fit(X)\n",
        "\n",
        "# Transform the data using the PCA object\n",
        "X_transformed = pca.transform(X)\n",
        "\n",
        "# Print the transformed data\n",
        "print(X_transformed)"
      ]
    },
    {
      "cell_type": "code",
      "execution_count": null,
      "metadata": {},
      "outputs": [],
      "source": [
        "# For Multivariate GARCH model for 5 Oil Prices\n",
        "\n",
        "# Create a pandas dataframe\n",
        "df = pd.DataFrame(data, columns=[\"A\", \"B\", \"C\", \"D\", \"E\"])\n",
        "\n",
        "# Create a GARCH model\n",
        "model = arch_model(df, mean=\"Zero\", vol=\"GARCH\", p=1, q=1)\n",
        "\n",
        "# Fit the model\n",
        "model.fit()\n",
        "\n",
        "# Print the model summary\n",
        "print(model.summary())\n",
        "\n",
        "# Plot the standardized residuals\n",
        "model.plot_resid()\n",
        "\n",
        "# Generate statistics and diagnostic plots\n",
        "model.generate_diagnostics()"
      ]
    },
    {
      "cell_type": "markdown",
      "metadata": {
        "id": "8HVViATrfJ3q"
      },
      "source": [
        "#**STEP 6:Result Interpretation**"
      ]
    },
    {
      "cell_type": "markdown",
      "metadata": {
        "id": "BlmKC1-JfXwi"
      },
      "source": [
        "\n",
        "*   Interpret the results of the analysis and provide insights into market dynamics and pricing relationships."
      ]
    },
    {
      "cell_type": "code",
      "execution_count": null,
      "metadata": {
        "id": "5k8Mz7vufN66"
      },
      "outputs": [],
      "source": []
    },
    {
      "cell_type": "markdown",
      "metadata": {
        "id": "BS0tlEh4fOhC"
      },
      "source": [
        "#**STEP 7:Discussion**"
      ]
    },
    {
      "cell_type": "markdown",
      "metadata": {
        "id": "cVhiY_o7falj"
      },
      "source": [
        "\n",
        "*   Discuss possible economic explanations for differences observed in price relationships across markets."
      ]
    },
    {
      "cell_type": "code",
      "execution_count": null,
      "metadata": {
        "id": "uRfYDicrfRRS"
      },
      "outputs": [],
      "source": []
    }
  ],
  "metadata": {
    "colab": {
      "provenance": [],
      "toc_visible": true
    },
    "kernelspec": {
      "display_name": "Python 3",
      "name": "python3"
    },
    "language_info": {
      "codemirror_mode": {
        "name": "ipython",
        "version": 3
      },
      "file_extension": ".py",
      "mimetype": "text/x-python",
      "name": "python",
      "nbconvert_exporter": "python",
      "pygments_lexer": "ipython3",
      "version": "3.10.4"
    }
  },
  "nbformat": 4,
  "nbformat_minor": 0
}
